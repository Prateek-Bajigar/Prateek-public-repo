{
 "cells": [
  {
   "cell_type": "markdown",
   "id": "08b0b50d",
   "metadata": {},
   "source": [
    "## Integration \n",
    "- In simple words, integration is a way of uniting the part to find a whole. It is the inverse operation of differentiation\n",
    "- To integrate a function we will be using sympy library in python and try to solve some problems which are not easy to be done by hand.\n",
    "- ### $  f(x)=\\int \\sin(x) \\, dx$"
   ]
  },
  {
   "cell_type": "markdown",
   "id": "7183cc9d",
   "metadata": {},
   "source": [
    "#### Importing sympy and defining symbols"
   ]
  },
  {
   "cell_type": "code",
   "execution_count": 3,
   "id": "846dc2b2",
   "metadata": {},
   "outputs": [],
   "source": [
    "from sympy import * # Importing library and defining symbols\n",
    "x,y,a,b,t,m,n,w,t,i,h,pi=symbols('x y a b t m n w t i h pi',real=True)"
   ]
  },
  {
   "cell_type": "markdown",
   "id": "cc7d5709",
   "metadata": {},
   "source": [
    "### Q1.Solve  $y = \\int \\sin(x) \\, dx$"
   ]
  },
  {
   "cell_type": "code",
   "execution_count": 15,
   "id": "373ed8d2",
   "metadata": {},
   "outputs": [
    {
     "data": {
      "text/latex": [
       "$\\displaystyle - \\cos{\\left(x \\right)}$"
      ],
      "text/plain": [
       "-cos(x)"
      ]
     },
     "execution_count": 15,
     "metadata": {},
     "output_type": "execute_result"
    }
   ],
   "source": [
    "y1=sin(x)\n",
    "integrate(y1,x)"
   ]
  },
  {
   "cell_type": "markdown",
   "id": "7d5e2874",
   "metadata": {},
   "source": [
    "### Q2.Solve $ y = \\int_{0}^{\\infty} cos{x^2} \\, dx $"
   ]
  },
  {
   "cell_type": "code",
   "execution_count": 21,
   "id": "b1522b0c",
   "metadata": {},
   "outputs": [
    {
     "data": {
      "text/latex": [
       "$\\displaystyle \\frac{\\sqrt{2} \\sqrt{\\pi}}{4}$"
      ],
      "text/plain": [
       "sqrt(2)*sqrt(pi)/4"
      ]
     },
     "execution_count": 21,
     "metadata": {},
     "output_type": "execute_result"
    }
   ],
   "source": [
    "y=(cos(x**2))\n",
    "integrate(y,(x,0,oo))"
   ]
  },
  {
   "cell_type": "markdown",
   "id": "9e70ea27",
   "metadata": {},
   "source": [
    "### Q3.Solve $ y = \\int  x^{3}\\ln(x) \\, dx. $ "
   ]
  },
  {
   "cell_type": "code",
   "execution_count": 23,
   "id": "aaebd69f",
   "metadata": {},
   "outputs": [
    {
     "data": {
      "text/latex": [
       "$\\displaystyle \\frac{x^{4} \\log{\\left(x \\right)}}{4} - \\frac{x^{4}}{16}$"
      ],
      "text/plain": [
       "x**4*log(x)/4 - x**4/16"
      ]
     },
     "execution_count": 23,
     "metadata": {},
     "output_type": "execute_result"
    }
   ],
   "source": [
    "y=x**3*ln(x)\n",
    "integrate(y)"
   ]
  },
  {
   "cell_type": "markdown",
   "id": "2ba089c5",
   "metadata": {},
   "source": [
    "### Q4. Solve $y=\\int \\sqrt{1-x^{2}}dx. $"
   ]
  },
  {
   "cell_type": "code",
   "execution_count": 25,
   "id": "70c1805b",
   "metadata": {},
   "outputs": [
    {
     "data": {
      "text/latex": [
       "$\\displaystyle \\frac{x \\sqrt{1 - x^{2}}}{2} + \\frac{\\operatorname{asin}{\\left(x \\right)}}{2}$"
      ],
      "text/plain": [
       "x*sqrt(1 - x**2)/2 + asin(x)/2"
      ]
     },
     "execution_count": 25,
     "metadata": {},
     "output_type": "execute_result"
    }
   ],
   "source": [
    "y=sqrt(1-x**2)\n",
    "y.integrate()"
   ]
  },
  {
   "cell_type": "markdown",
   "id": "0f64fd7e",
   "metadata": {},
   "source": [
    "### Q5. Solve $y=\\int \\frac{x^{3}+1}{x^2+x+1}dx. $"
   ]
  },
  {
   "cell_type": "code",
   "execution_count": 27,
   "id": "ec47798f",
   "metadata": {},
   "outputs": [
    {
     "data": {
      "text/latex": [
       "$\\displaystyle \\frac{x^{2}}{2} - x + \\frac{4 \\sqrt{3} \\operatorname{atan}{\\left(\\frac{2 \\sqrt{3} x}{3} + \\frac{\\sqrt{3}}{3} \\right)}}{3}$"
      ],
      "text/plain": [
       "x**2/2 - x + 4*sqrt(3)*atan(2*sqrt(3)*x/3 + sqrt(3)/3)/3"
      ]
     },
     "execution_count": 27,
     "metadata": {},
     "output_type": "execute_result"
    }
   ],
   "source": [
    "y=(x**3+1)/(x**2+x+1)\n",
    "y.integrate()"
   ]
  },
  {
   "cell_type": "markdown",
   "id": "27c7705a",
   "metadata": {},
   "source": [
    "### Q6. Solve $ \\int_{-\\infty}^{\\infty} e^{-x^2} x^4 \\, dx $"
   ]
  },
  {
   "cell_type": "code",
   "execution_count": 29,
   "id": "e896059d",
   "metadata": {},
   "outputs": [
    {
     "data": {
      "text/latex": [
       "$\\displaystyle \\frac{3 \\sqrt{\\pi}}{4}$"
      ],
      "text/plain": [
       "3*sqrt(pi)/4"
      ]
     },
     "execution_count": 29,
     "metadata": {},
     "output_type": "execute_result"
    }
   ],
   "source": [
    "y=exp(-x**2)*x**4\n",
    "y.integrate((x,-oo,oo))"
   ]
  },
  {
   "cell_type": "markdown",
   "id": "e5adf858",
   "metadata": {},
   "source": [
    "### Q7. Solve $\\int \\sin^3(x)\\cos^3(x)\\tan^4(x) \\,dx $"
   ]
  },
  {
   "cell_type": "code",
   "execution_count": 31,
   "id": "d8ef4cdc",
   "metadata": {},
   "outputs": [
    {
     "data": {
      "text/latex": [
       "$\\displaystyle - \\log{\\left(\\cos{\\left(x \\right)} \\right)} + \\frac{\\cos^{6}{\\left(x \\right)}}{6} - \\frac{3 \\cos^{4}{\\left(x \\right)}}{4} + \\frac{3 \\cos^{2}{\\left(x \\right)}}{2}$"
      ],
      "text/plain": [
       "-log(cos(x)) + cos(x)**6/6 - 3*cos(x)**4/4 + 3*cos(x)**2/2"
      ]
     },
     "execution_count": 31,
     "metadata": {},
     "output_type": "execute_result"
    }
   ],
   "source": [
    "y=sin(x)**3*cos(x)**3*tan(x)**4\n",
    "y.integrate()"
   ]
  },
  {
   "cell_type": "markdown",
   "id": "1a2f717e",
   "metadata": {},
   "source": [
    "### Q8. Solve $ y= \\int_{1}^{2} x^2 J_0(x) \\, dx $, where $ J_0(x) = \\sum_{m=0}^{\\infty} \\frac{(-1)^m \\left(\\frac{x}{2}\\right)^{2m+n}}{m!(m+n!)^2} \\,$"
   ]
  },
  {
   "cell_type": "code",
   "execution_count": 33,
   "id": "fdabb076",
   "metadata": {},
   "outputs": [
    {
     "data": {
      "text/latex": [
       "$\\displaystyle 1.0433926338998$"
      ],
      "text/plain": [
       "1.04339263389980"
      ]
     },
     "execution_count": 33,
     "metadata": {},
     "output_type": "execute_result"
    }
   ],
   "source": [
    "def J(n):\n",
    " n=0\n",
    " sum1=0\n",
    " for m in range(0,70):\n",
    "    sum1=sum1+(((-1)**m)*((x/2)**(2*m+n)))/((factorial(m))*factorial(m+n))\n",
    " return sum1\n",
    "q=integrate(J(0)*x**2,(x,1,2))\n",
    "q.evalf()"
   ]
  },
  {
   "cell_type": "markdown",
   "id": "aa01e614",
   "metadata": {},
   "source": [
    "# Fresnel Integrals\n",
    "\n",
    "The Fresnel integrals are special functions denoted as C(x) and S(x), which are defined as follows:\n",
    "\n",
    "- **Fresnel Cosine Integral** \n",
    "  $ C(x) = \\int_{0}^{x} \\cos\\left(\\frac{\\pi t^2}{2}\\right) \\, dt \\, $\n",
    "\n",
    "- **Fresnel Sine Integral** \n",
    "  $  S(x) = \\int_{0}^{x} \\sin\\left(\\frac{\\pi t^2}{2}\\right) \\, dt \\,$\n"
   ]
  },
  {
   "cell_type": "markdown",
   "id": "e773a58d",
   "metadata": {},
   "source": [
    "#### Q1. Using above information verify \n",
    "1. $C(-x)=-C(x)$\n",
    "2. $S(-x)=-S(x)$"
   ]
  },
  {
   "cell_type": "markdown",
   "id": "58606f7a",
   "metadata": {},
   "source": [
    "### Link to a more advanced integration questions to try\n",
    "- Integration and summation by Edward Jin\n",
    "- https://www.mit.edu/~ehjin/files/Integration_And_Summation.pdf"
   ]
  }
 ],
 "metadata": {
  "kernelspec": {
   "display_name": "Python 3 (ipykernel)",
   "language": "python",
   "name": "python3"
  },
  "language_info": {
   "codemirror_mode": {
    "name": "ipython",
    "version": 3
   },
   "file_extension": ".py",
   "mimetype": "text/x-python",
   "name": "python",
   "nbconvert_exporter": "python",
   "pygments_lexer": "ipython3",
   "version": "3.12.7"
  }
 },
 "nbformat": 4,
 "nbformat_minor": 5
}
