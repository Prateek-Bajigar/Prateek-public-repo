{
 "cells": [
  {
   "cell_type": "markdown",
   "id": "07d46f78",
   "metadata": {},
   "source": [
    "# Matrix \n",
    "$\n",
    "\\begin{bmatrix}\n",
    "a_{00} & a_{01} & a_{02} \\\\\n",
    "a_{10} & a_{11} & a_{12} \\\\\n",
    "a_{20} & a_{21} & a_{22}\n",
    "\\end{bmatrix}\n",
    "$"
   ]
  },
  {
   "cell_type": "markdown",
   "id": "2b87f9ed",
   "metadata": {},
   "source": [
    "## Creating a matrix"
   ]
  },
  {
   "cell_type": "code",
   "execution_count": 2,
   "id": "8032782f",
   "metadata": {},
   "outputs": [
    {
     "name": "stdout",
     "output_type": "stream",
     "text": [
      "[[1. 2.]\n",
      " [3. 4.]] ,\n",
      "[[3. 1.]\n",
      " [5. 6.]]\n"
     ]
    }
   ],
   "source": [
    "from numpy import *\n",
    "a=array([[1, 2], [3, 4]],float)\n",
    "b=array([[3,1], [5,6]],float)\n",
    "print(a,\",\")\n",
    "print(b)"
   ]
  },
  {
   "cell_type": "markdown",
   "id": "37e45320",
   "metadata": {},
   "source": [
    "## Matrix addition"
   ]
  },
  {
   "cell_type": "code",
   "execution_count": 3,
   "id": "d9e7cd46",
   "metadata": {},
   "outputs": [
    {
     "name": "stdout",
     "output_type": "stream",
     "text": [
      "[[ 4.  3.]\n",
      " [ 8. 10.]]\n"
     ]
    }
   ],
   "source": [
    "c=a+b\n",
    "print(c)"
   ]
  },
  {
   "cell_type": "markdown",
   "id": "3fdce572",
   "metadata": {},
   "source": [
    "## Matrix subtraction "
   ]
  },
  {
   "cell_type": "code",
   "execution_count": 4,
   "id": "8e8bf67c",
   "metadata": {},
   "outputs": [
    {
     "name": "stdout",
     "output_type": "stream",
     "text": [
      "[[ 2. -1.]\n",
      " [ 2.  2.]]\n"
     ]
    }
   ],
   "source": [
    "d=b-a\n",
    "print(d)"
   ]
  },
  {
   "cell_type": "markdown",
   "id": "04c6276b",
   "metadata": {},
   "source": [
    "## Matrix multiplication "
   ]
  },
  {
   "cell_type": "code",
   "execution_count": 5,
   "id": "a824e5e0",
   "metadata": {},
   "outputs": [
    {
     "name": "stdout",
     "output_type": "stream",
     "text": [
      "[[13. 13.]\n",
      " [29. 27.]]\n"
     ]
    }
   ],
   "source": [
    "e=dot(a,b) # dot function to multipy matrices\n",
    "print(e)"
   ]
  },
  {
   "cell_type": "markdown",
   "id": "33f4e1fd",
   "metadata": {},
   "source": [
    "## Scalar matrix multiplication"
   ]
  },
  {
   "cell_type": "code",
   "execution_count": 6,
   "id": "1043a30b",
   "metadata": {},
   "outputs": [
    {
     "name": "stdout",
     "output_type": "stream",
     "text": [
      "[[ 3.  6.]\n",
      " [ 9. 12.]]\n"
     ]
    }
   ],
   "source": [
    "f=3*a # multiplying matrix a with 2 \n",
    "print(f)"
   ]
  },
  {
   "cell_type": "markdown",
   "id": "e66fbbf0",
   "metadata": {},
   "source": [
    "## Matrix Transpose"
   ]
  },
  {
   "cell_type": "code",
   "execution_count": 7,
   "id": "5900684b",
   "metadata": {},
   "outputs": [
    {
     "name": "stdout",
     "output_type": "stream",
     "text": [
      "[[1. 3.]\n",
      " [2. 4.]]\n"
     ]
    }
   ],
   "source": [
    "G=a.T\n",
    "print(G)"
   ]
  },
  {
   "cell_type": "markdown",
   "id": "9d2d63d1",
   "metadata": {},
   "source": [
    "## Inverse of a matrix\n",
    "- Here we will use linalg.inv() , function to invert a matrix.\n",
    "<div class=\"alert alert-block alert-danger\">\n",
    "<b>Note:</b> It can only be used for square matices.If you want to find inverse of a non square matrix use \"linalg.pinv()\" method.\n",
    "</div>\n"
   ]
  },
  {
   "cell_type": "code",
   "execution_count": 8,
   "id": "bc07647a",
   "metadata": {},
   "outputs": [
    {
     "name": "stdout",
     "output_type": "stream",
     "text": [
      "[[ 2 -3  5]\n",
      " [ 6  0  4]\n",
      " [ 1  5 -7]]\n",
      "[[ 0.71428571 -0.14285714  0.42857143]\n",
      " [-1.64285714  0.67857143 -0.78571429]\n",
      " [-1.07142857  0.46428571 -0.64285714]]\n"
     ]
    }
   ],
   "source": [
    "A=array([[2,-3,5], [6,0,4], [1,5,-7]])\n",
    "H=linalg.inv(A)\n",
    "print(A)\n",
    "print(H)"
   ]
  },
  {
   "cell_type": "markdown",
   "id": "df83abde",
   "metadata": {},
   "source": [
    "## Determinant "
   ]
  },
  {
   "cell_type": "code",
   "execution_count": 9,
   "id": "88d1be0d",
   "metadata": {},
   "outputs": [
    {
     "name": "stdout",
     "output_type": "stream",
     "text": [
      "[[1. 2.]\n",
      " [3. 4.]] -2.0000000000000004\n"
     ]
    }
   ],
   "source": [
    "det=linalg.det(a)\n",
    "print(a,det)"
   ]
  },
  {
   "cell_type": "code",
   "execution_count": null,
   "id": "8a64b705",
   "metadata": {},
   "outputs": [],
   "source": []
  },
  {
   "cell_type": "code",
   "execution_count": null,
   "id": "ace34a23",
   "metadata": {},
   "outputs": [],
   "source": []
  },
  {
   "cell_type": "code",
   "execution_count": null,
   "id": "1201ca04",
   "metadata": {},
   "outputs": [],
   "source": []
  },
  {
   "cell_type": "code",
   "execution_count": null,
   "id": "fb635ebb",
   "metadata": {},
   "outputs": [],
   "source": []
  },
  {
   "cell_type": "code",
   "execution_count": null,
   "id": "a70d3b1a",
   "metadata": {},
   "outputs": [],
   "source": []
  },
  {
   "cell_type": "code",
   "execution_count": null,
   "id": "5acc6fb0",
   "metadata": {},
   "outputs": [],
   "source": []
  },
  {
   "cell_type": "markdown",
   "id": "7f129740",
   "metadata": {},
   "source": [
    "## Inverse Matrix method of solving equation\n",
    " \n",
    "$a_{1}x+b_{1}y+c_{1}z=d1$\n",
    "\n",
    "$a_{2}x+b_{2}y+c_{2}z=d2$\n",
    "\n",
    "$a_{3}x+b_{3}y+c_{3}z=d3$\n",
    "\n",
    "    \n",
    "$A=\n",
    "\\begin{bmatrix}\n",
    "a_{1} & b_{1} & c_{1} \\\\\n",
    "a_{2} & b_{2} & c_{2} \\\\\n",
    "a_{3} & b_{3} & c_{3}\n",
    "\\end{bmatrix}$,\n",
    "$X=\n",
    "\\begin{bmatrix}\n",
    "x \\\\\n",
    "y \\\\\n",
    "z\n",
    "\\end{bmatrix}$,\n",
    "$B=\n",
    "\\begin{bmatrix}\n",
    "d_{1} \\\\\n",
    "d_{2}\\\\\n",
    "d_{3}\n",
    "\\end{bmatrix}$\n",
    "\n",
    "We can represent the above equations in the form \n",
    "\n",
    "$\\begin{bmatrix}\n",
    "a_{1} & b_{1} & c_{1} \\\\\n",
    "a_{2} & b_{2} & c_{2} \\\\\n",
    "a_{3} & b_{3} & c_{3}\n",
    "\\end{bmatrix}$\n",
    "$\\begin{bmatrix}\n",
    "x \\\\\n",
    "y \\\\\n",
    "z\n",
    "\\end{bmatrix}=\n",
    "\\begin{bmatrix}\n",
    "d_{1} \\\\\n",
    "d_{2}\\\\\n",
    "d_{3}\n",
    "\\end{bmatrix}$\n",
    "\n",
    "\n",
    "$AX=B$\n",
    "\n",
    "\n",
    "$X=A^{-1}B$\n",
    "\n"
   ]
  },
  {
   "cell_type": "markdown",
   "id": "395cd72b",
   "metadata": {},
   "source": [
    "Q1.Solve following equations using inverse matrix method.\n",
    "   - $2x+5y=1$\n",
    "   - $3x+2y=7$\n",
    "### Solution \n",
    "$x=3$, $y=-1$"
   ]
  },
  {
   "cell_type": "code",
   "execution_count": 16,
   "id": "74066346",
   "metadata": {},
   "outputs": [
    {
     "name": "stdout",
     "output_type": "stream",
     "text": [
      "[[ 3.]\n",
      " [-1.]]\n"
     ]
    }
   ],
   "source": [
    "from numpy import *\n",
    "A=array([[2,5],[3,2]]) \n",
    "B=array([[1],[7]])\n",
    "inv_A=linalg.inv(A) # taking inverse of A\n",
    "solution=dot(inv_A,B) # multiplying A inverse and B\n",
    "#print(A)\n",
    "print(solution)"
   ]
  },
  {
   "cell_type": "markdown",
   "id": "a824c86b",
   "metadata": {},
   "source": [
    "Q1.Solve following equations using inverse matrix method.\n",
    "   - $2x+y+z=10$\n",
    "   - $3x+2y+3z=18$\n",
    "   - $x+4y+9z=16$\n",
    "### Solution \n",
    "$x=7$,\n",
    "$y=-9$,\n",
    "$z=5$"
   ]
  },
  {
   "cell_type": "code",
   "execution_count": 19,
   "id": "162566a9",
   "metadata": {},
   "outputs": [
    {
     "name": "stdout",
     "output_type": "stream",
     "text": [
      "[[ 7.]\n",
      " [-9.]\n",
      " [ 5.]]\n"
     ]
    }
   ],
   "source": [
    "a=array([[2,1,1],[3,2,3],[1,4,9]])\n",
    "b=array([[10],[18],[16]])\n",
    "inv_a=linalg.inv(a) # taking inverse of A\n",
    "solution=dot(inv_a,b) # multiplying A inverse and B\n",
    "print(solution)"
   ]
  },
  {
   "cell_type": "code",
   "execution_count": null,
   "id": "df402c25",
   "metadata": {},
   "outputs": [],
   "source": []
  },
  {
   "cell_type": "code",
   "execution_count": null,
   "id": "5cbe4e0c",
   "metadata": {},
   "outputs": [],
   "source": []
  },
  {
   "cell_type": "code",
   "execution_count": null,
   "id": "860e45f9",
   "metadata": {},
   "outputs": [],
   "source": []
  },
  {
   "cell_type": "code",
   "execution_count": null,
   "id": "b11e47f3",
   "metadata": {},
   "outputs": [],
   "source": []
  },
  {
   "cell_type": "code",
   "execution_count": null,
   "id": "e8369491",
   "metadata": {},
   "outputs": [],
   "source": []
  },
  {
   "cell_type": "code",
   "execution_count": null,
   "id": "4287b315",
   "metadata": {},
   "outputs": [],
   "source": []
  },
  {
   "cell_type": "code",
   "execution_count": null,
   "id": "e99b5359",
   "metadata": {},
   "outputs": [],
   "source": []
  },
  {
   "cell_type": "markdown",
   "id": "40be8dde",
   "metadata": {},
   "source": [
    "## Guass Elimination \n",
    "Q1.Solve the system of equations using gauss elimniation method"
   ]
  },
  {
   "cell_type": "code",
   "execution_count": 12,
   "id": "3b87f7f5",
   "metadata": {},
   "outputs": [
    {
     "name": "stdout",
     "output_type": "stream",
     "text": [
      "2.0\n",
      "[[1.  0.5 0.5]\n",
      " [3.  2.  3. ]\n",
      " [1.  4.  9. ]] ,\n",
      "[[1.  0.5 0.5]\n",
      " [0.  0.5 1.5]\n",
      " [1.  4.  9. ]] ,\n",
      "[[1.  0.5 0.5]\n",
      " [0.  0.5 1.5]\n",
      " [0.  3.5 8.5]] ,\n",
      "0.5\n",
      "[[1.  0.5 0.5]\n",
      " [0.  1.  3. ]\n",
      " [0.  3.5 8.5]] ,\n",
      "[[ 1.   0.5  0.5]\n",
      " [ 0.   1.   3. ]\n",
      " [ 0.   0.  -2. ]] ,\n"
     ]
    },
    {
     "data": {
      "text/plain": [
       "array([[ 1. ,  0.5,  0.5],\n",
       "       [ 0. ,  1. ,  3. ],\n",
       "       [ 0. ,  0. , -2. ]])"
      ]
     },
     "execution_count": 12,
     "metadata": {},
     "output_type": "execute_result"
    }
   ],
   "source": [
    "a=array([[2,1,1],[3,2,3],[1,4,9]],float)\n",
    "b=array([[10],[18],[16]],float)\n",
    "n=len(b) #n=3\n",
    "for i in range(0,n-1):\n",
    "    m1=a[i,i]\n",
    "    print(m1)\n",
    "    a[i,:]=a[i,:]/m1\n",
    "    b[i]=b[i]/m1\n",
    "    print(a,\",\")\n",
    "    for j in range (i+1,n):\n",
    "        m2=a[j,i]\n",
    "        a[j,:]=a[j,:]-m2*a[i,:]\n",
    "        b[j]=b[j]-m2*b[i]\n",
    "        print(a,\",\")\n",
    "a"
   ]
  },
  {
   "cell_type": "code",
   "execution_count": 13,
   "id": "1417782e",
   "metadata": {},
   "outputs": [
    {
     "data": {
      "text/plain": [
       "array([[  5.],\n",
       "       [  6.],\n",
       "       [-10.]])"
      ]
     },
     "execution_count": 13,
     "metadata": {},
     "output_type": "execute_result"
    }
   ],
   "source": [
    "b"
   ]
  },
  {
   "cell_type": "markdown",
   "id": "e6db7d52",
   "metadata": {},
   "source": [
    "## Back substitution "
   ]
  },
  {
   "cell_type": "markdown",
   "id": "bd4d0d8e",
   "metadata": {},
   "source": [
    "This is the formula we are using here\n",
    "- $$x_i = \\frac{{b_i - \\sum_{{j=i+1}}^n{{a_{{ij}}  x_j}}}}{{a_{{ii}}}}$$\n",
    "\n"
   ]
  },
  {
   "cell_type": "code",
   "execution_count": 14,
   "id": "37068ed7",
   "metadata": {},
   "outputs": [
    {
     "name": "stdout",
     "output_type": "stream",
     "text": [
      "[0. 0. 0.]\n",
      "[  0.   0. -10.] ,\n",
      "[0. 0. 5.]\n",
      "[0. 6. 5.] ,\n",
      "[ 0. -9.  5.] ,\n",
      "[ 0. -9.  5.]\n",
      "[ 5. -9.  5.] ,\n",
      "[ 9.5 -9.   5. ] ,\n",
      "[ 7. -9.  5.] ,\n",
      "[ 7. -9.  5.]\n",
      "Solution Vector x:\n",
      "[ 7. -9.  5.]\n"
     ]
    }
   ],
   "source": [
    "import numpy as np\n",
    "#a = np.array([[1.0, 0.5, 0.5], [0.0, 1.0, 3.0], [0.0, 0.0, -2.0]])\n",
    "#b = np.array([5, 6, -10],float)\n",
    "n = len(b)  # n=3\n",
    "x = np.zeros(n) # it creates an array [[0,0,0]]\n",
    "print(x)\n",
    "for i in range(n - 1, -1, -1): # i=2,1,0\n",
    "    x[i] = b[i]\n",
    "    print(x,\",\")\n",
    "    for j in range(i + 1, n):\n",
    "        x[i] -= a[i, j] * x[j]\n",
    "        print(x,\",\")\n",
    "    x[i] /= a[i, i]\n",
    "    print(x)\n",
    "\n",
    "print(\"Solution Vector x:\")\n",
    "print(x)"
   ]
  },
  {
   "cell_type": "code",
   "execution_count": null,
   "id": "01290a15",
   "metadata": {},
   "outputs": [],
   "source": []
  },
  {
   "cell_type": "code",
   "execution_count": null,
   "id": "73693aa9",
   "metadata": {},
   "outputs": [],
   "source": []
  },
  {
   "cell_type": "code",
   "execution_count": null,
   "id": "146b7353",
   "metadata": {},
   "outputs": [],
   "source": []
  },
  {
   "cell_type": "markdown",
   "id": "09f4949b",
   "metadata": {},
   "source": [
    "\n"
   ]
  },
  {
   "cell_type": "code",
   "execution_count": null,
   "id": "d63a61d2",
   "metadata": {},
   "outputs": [],
   "source": []
  },
  {
   "cell_type": "code",
   "execution_count": null,
   "id": "990683a7",
   "metadata": {},
   "outputs": [],
   "source": []
  },
  {
   "cell_type": "code",
   "execution_count": null,
   "id": "bf07a592",
   "metadata": {},
   "outputs": [],
   "source": []
  },
  {
   "cell_type": "code",
   "execution_count": null,
   "id": "8e8a8369",
   "metadata": {},
   "outputs": [],
   "source": []
  }
 ],
 "metadata": {
  "kernelspec": {
   "display_name": "Python 3 (ipykernel)",
   "language": "python",
   "name": "python3"
  },
  "language_info": {
   "codemirror_mode": {
    "name": "ipython",
    "version": 3
   },
   "file_extension": ".py",
   "mimetype": "text/x-python",
   "name": "python",
   "nbconvert_exporter": "python",
   "pygments_lexer": "ipython3",
   "version": "3.12.7"
  }
 },
 "nbformat": 4,
 "nbformat_minor": 5
}
