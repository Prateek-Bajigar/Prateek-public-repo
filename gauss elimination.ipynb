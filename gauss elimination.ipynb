{
 "cells": [
  {
   "cell_type": "markdown",
   "id": "521b9dc5",
   "metadata": {},
   "source": [
    "## Matrix \n",
    "$\n",
    "\\begin{bmatrix}\n",
    "a_{00} & a_{01} & a_{02} \\\\\n",
    "a_{10} & a_{11} & a_{12} \\\\\n",
    "a_{20} & a_{21} & a_{22}\n",
    "\\end{bmatrix}\n",
    "$"
   ]
  },
  {
   "cell_type": "markdown",
   "id": "1be09e3f",
   "metadata": {},
   "source": [
    "## Creating a matrix"
   ]
  },
  {
   "cell_type": "code",
   "execution_count": 6,
   "id": "8032782f",
   "metadata": {},
   "outputs": [
    {
     "name": "stdout",
     "output_type": "stream",
     "text": [
      "[[1. 2.]\n",
      " [3. 4.]] ,\n",
      "[[3. 1.]\n",
      " [5. 6.]]\n"
     ]
    }
   ],
   "source": [
    "from numpy import *\n",
    "a=array([[1, 2], [3, 4]],float)\n",
    "b=array([[3,1], [5,6]],float)\n",
    "print(a,\",\")\n",
    "print(b)"
   ]
  },
  {
   "cell_type": "markdown",
   "id": "50520481",
   "metadata": {},
   "source": [
    "## Matrix addition"
   ]
  },
  {
   "cell_type": "code",
   "execution_count": 7,
   "id": "d9e7cd46",
   "metadata": {},
   "outputs": [
    {
     "name": "stdout",
     "output_type": "stream",
     "text": [
      "[[ 4.  3.]\n",
      " [ 8. 10.]]\n"
     ]
    }
   ],
   "source": [
    "c=a+b\n",
    "print(c)"
   ]
  },
  {
   "cell_type": "markdown",
   "id": "81b5ed20",
   "metadata": {},
   "source": [
    "## Matrix subtraction "
   ]
  },
  {
   "cell_type": "code",
   "execution_count": 8,
   "id": "95dfb09c",
   "metadata": {},
   "outputs": [
    {
     "name": "stdout",
     "output_type": "stream",
     "text": [
      "[[ 2. -1.]\n",
      " [ 2.  2.]]\n"
     ]
    }
   ],
   "source": [
    "d=b-a\n",
    "print(d)"
   ]
  },
  {
   "cell_type": "markdown",
   "id": "954f4030",
   "metadata": {},
   "source": [
    "## Matrix multiplication "
   ]
  },
  {
   "cell_type": "code",
   "execution_count": 9,
   "id": "8a1aa41d",
   "metadata": {},
   "outputs": [
    {
     "name": "stdout",
     "output_type": "stream",
     "text": [
      "[[13. 13.]\n",
      " [29. 27.]]\n"
     ]
    }
   ],
   "source": [
    "e=dot(a,b) # dot function to multipy matrices\n",
    "print(e)"
   ]
  },
  {
   "cell_type": "markdown",
   "id": "7c3f0238",
   "metadata": {},
   "source": [
    "## Scalar matrix multiplication"
   ]
  },
  {
   "cell_type": "code",
   "execution_count": 10,
   "id": "16e4c983",
   "metadata": {},
   "outputs": [
    {
     "name": "stdout",
     "output_type": "stream",
     "text": [
      "[[2. 4.]\n",
      " [6. 8.]]\n"
     ]
    }
   ],
   "source": [
    "f=2*a # multiplying matrix a with 2 \n",
    "print(f)"
   ]
  },
  {
   "cell_type": "markdown",
   "id": "e66fbbf0",
   "metadata": {},
   "source": [
    "## Matrix Transpose"
   ]
  },
  {
   "cell_type": "code",
   "execution_count": 11,
   "id": "5900684b",
   "metadata": {},
   "outputs": [
    {
     "name": "stdout",
     "output_type": "stream",
     "text": [
      "[[1. 3.]\n",
      " [2. 4.]]\n"
     ]
    }
   ],
   "source": [
    "# Matrix transposition\n",
    "G=a.T\n",
    "print(G)"
   ]
  },
  {
   "cell_type": "markdown",
   "id": "8675d719",
   "metadata": {},
   "source": [
    "## Inverse of a matrix\n",
    "- Here we will use linalg.inv() , function to invert a matrix.\n",
    "<div class=\"alert alert-block alert-danger\">\n",
    "<b>Note:</b> It can only be used for square matices.If you want to find inverse of a non square matrix use \"linalg.pinv()\" method.\n",
    "</div>\n"
   ]
  },
  {
   "cell_type": "code",
   "execution_count": 12,
   "id": "bc07647a",
   "metadata": {},
   "outputs": [
    {
     "name": "stdout",
     "output_type": "stream",
     "text": [
      "[[ 0.71428571 -0.14285714  0.42857143]\n",
      " [-1.64285714  0.67857143 -0.78571429]\n",
      " [-1.07142857  0.46428571 -0.64285714]]\n"
     ]
    }
   ],
   "source": [
    "A=array([[2,-3,5], [6,0,4], [1,5,-7]])\n",
    "H=linalg.inv(A)\n",
    "print(H)"
   ]
  },
  {
   "cell_type": "markdown",
   "id": "df83abde",
   "metadata": {},
   "source": [
    "## Determinant "
   ]
  },
  {
   "cell_type": "code",
   "execution_count": 13,
   "id": "88d1be0d",
   "metadata": {},
   "outputs": [
    {
     "name": "stdout",
     "output_type": "stream",
     "text": [
      "[[ 2 -3  5]\n",
      " [ 6  0  4]\n",
      " [ 1  5 -7]] -28.00000000000002\n"
     ]
    }
   ],
   "source": [
    "det=linalg.det(A)\n",
    "print(A,det)"
   ]
  },
  {
   "cell_type": "code",
   "execution_count": null,
   "id": "8793012d",
   "metadata": {},
   "outputs": [],
   "source": []
  },
  {
   "cell_type": "code",
   "execution_count": null,
   "id": "9eab9f2a",
   "metadata": {},
   "outputs": [],
   "source": []
  },
  {
   "cell_type": "markdown",
   "id": "7f129740",
   "metadata": {},
   "source": [
    "## Inverse Matrix method of solving equation\n",
    " \n",
    "$a_{1}x+b_{1}y+c_{1}z=d1$\n",
    "\n",
    "$a_{2}x+b_{2}y+c_{2}z=d2$\n",
    "\n",
    "$a_{3}x+b_{3}y+c_{3}z=d3$\n",
    "\n",
    "    \n",
    "$A=\n",
    "\\begin{bmatrix}\n",
    "a_{1} & b_{1} & c_{1} \\\\\n",
    "a_{2} & b_{2} & c_{2} \\\\\n",
    "a_{3} & b_{3} & c_{3}\n",
    "\\end{bmatrix}$,\n",
    "$X=\n",
    "\\begin{bmatrix}\n",
    "x \\\\\n",
    "y \\\\\n",
    "z\n",
    "\\end{bmatrix}$,\n",
    "$B=\n",
    "\\begin{bmatrix}\n",
    "d_{1} \\\\\n",
    "d_{2}\\\\\n",
    "d_{3}\n",
    "\\end{bmatrix}$\n",
    "\n",
    "We can represent the above equations in the form \n",
    "\n",
    "$\\begin{bmatrix}\n",
    "a_{1} & b_{1} & c_{1} \\\\\n",
    "a_{2} & b_{2} & c_{2} \\\\\n",
    "a_{3} & b_{3} & c_{3}\n",
    "\\end{bmatrix}$\n",
    "$\\begin{bmatrix}\n",
    "x \\\\\n",
    "y \\\\\n",
    "z\n",
    "\\end{bmatrix}=\n",
    "\\begin{bmatrix}\n",
    "d_{1} \\\\\n",
    "d_{2}\\\\\n",
    "d_{3}\n",
    "\\end{bmatrix}$\n",
    "\n",
    "\n",
    "$AX=B$\n",
    "\n",
    "\n",
    "$X=A^{-1}B$\n",
    "\n"
   ]
  },
  {
   "cell_type": "markdown",
   "id": "395cd72b",
   "metadata": {},
   "source": [
    "Q1.Solve following equations using inverse matrix method.\n",
    "   - $2x+5y=1$\n",
    "   - $3x+2y=7$"
   ]
  },
  {
   "cell_type": "code",
   "execution_count": 14,
   "id": "74066346",
   "metadata": {},
   "outputs": [
    {
     "name": "stdout",
     "output_type": "stream",
     "text": [
      "[[ 3.]\n",
      " [-1.]]\n"
     ]
    }
   ],
   "source": [
    "A=array([[2,5],[3,2]]) \n",
    "B=array([[1],[7]])\n",
    "inv_A=linalg.inv(A) # taking inverse of A\n",
    "solution=dot(inv_A,B) # multiplying A inverse and B\n",
    "print(solution)"
   ]
  },
  {
   "cell_type": "markdown",
   "id": "206f107f",
   "metadata": {},
   "source": [
    "Q1.Solve following equations using inverse matrix method.\n",
    "   - $2x+y+z=10$\n",
    "   - $3x+2y+3z=18$\n",
    "   - $x+4y+9z=16$\n",
    "   \n",
    "### Solution \n",
    "$x=7$,\n",
    "$y=-9$,\n",
    "$z=5$"
   ]
  },
  {
   "cell_type": "code",
   "execution_count": 15,
   "id": "162566a9",
   "metadata": {},
   "outputs": [
    {
     "name": "stdout",
     "output_type": "stream",
     "text": [
      "[[ 7.]\n",
      " [-9.]\n",
      " [ 5.]]\n"
     ]
    }
   ],
   "source": [
    "a=array([[2,1,1],[3,2,3],[1,4,9]])\n",
    "b=array([[10],[18],[16]])\n",
    "inv_a=linalg.inv(a) # taking inverse of A\n",
    "solution=dot(inv_a,b) # multiplying A inverse and B\n",
    "print(solution)"
   ]
  },
  {
   "cell_type": "code",
   "execution_count": null,
   "id": "30c72304",
   "metadata": {},
   "outputs": [],
   "source": []
  },
  {
   "cell_type": "code",
   "execution_count": null,
   "id": "e99b5359",
   "metadata": {},
   "outputs": [],
   "source": []
  },
  {
   "cell_type": "markdown",
   "id": "40be8dde",
   "metadata": {},
   "source": [
    "## Guass Elimination \n",
    "In this method we convert our matrix into upper triangular matrix using some operations and use back substitution method to compute values of variables.\n",
    "\n",
    "$\n",
    "\\begin{bmatrix}\n",
    "a_{00} & a_{01} & a_{02} & \\big| & b_{0} \\\\\n",
    "a_{10} & a_{11} & a_{12} & \\big| & b_{1} \\\\\n",
    "a_{20} & a_{21} & a_{22} & \\big| & b_{2}\n",
    "\\end{bmatrix}\n",
    "$\n",
    "$-->\n",
    "\\begin{bmatrix}\n",
    "1 & a_{01} & a_{02} & \\big| & b_{0} \\\\\n",
    "0 & 1 & a_{12} & \\big| & b_{1} \\\\\n",
    "0 & 0 & a_{22} & \\big| & b_{2}\n",
    "\\end{bmatrix}\n",
    "$\n",
    "\n",
    "\n",
    "$a_{00}x_{0}+a_{01}x_{1}+a_{02}x_{2}=b_{0}--> R_{1}/a_{00}  $\n",
    "\n",
    "$a_{10}x_{0}+a_{11}x_{1}+a_{12}x_{2}=b_{1}--> R_{2}-a_{10}R1 |  R_{2}/a_{11} $\n",
    "\n",
    "$a_{20}x_{0}+a_{21}x_{1}+a_{22}x_{2}=b_{2}--> R_{3}-a_{20}R1 |  R_{3}-a_{21}R_{2}$\n",
    "\n",
    "\n",
    "\n",
    "Q1.Solve the system of equations using gauss elimniation method\n",
    "\n",
    "$2x+y+z=10$\n",
    "\n",
    "$3x+2y+3z=18$\n",
    "\n",
    "$x+4y+9z=16$\n"
   ]
  },
  {
   "cell_type": "code",
   "execution_count": 38,
   "id": "3b87f7f5",
   "metadata": {},
   "outputs": [
    {
     "name": "stdout",
     "output_type": "stream",
     "text": [
      "a is\n",
      "[[2. 3. 4.]\n",
      " [3. 4. 3.]\n",
      " [2. 4. 9.]]\n",
      "m1 is 2.0\n",
      "[[1.  1.5 2. ]\n",
      " [3.  4.  3. ]\n",
      " [2.  4.  9. ]] ,\n",
      "m2 is 3.0\n",
      "[[ 1.   1.5  2. ]\n",
      " [ 0.  -0.5 -3. ]\n",
      " [ 2.   4.   9. ]] ,\n",
      "m2 is 2.0\n",
      "[[ 1.   1.5  2. ]\n",
      " [ 0.  -0.5 -3. ]\n",
      " [ 0.   1.   5. ]] ,\n",
      "m1 is -0.5\n",
      "[[ 1.   1.5  2. ]\n",
      " [-0.   1.   6. ]\n",
      " [ 0.   1.   5. ]] ,\n",
      "m2 is 1.0\n",
      "[[ 1.   1.5  2. ]\n",
      " [-0.   1.   6. ]\n",
      " [ 0.   0.  -1. ]] ,\n",
      "Matrix after gaussian elimination is\n",
      "[[ 1.   1.5  2. ]\n",
      " [-0.   1.   6. ]\n",
      " [ 0.   0.  -1. ]]\n"
     ]
    }
   ],
   "source": [
    "a=array([[2,3,4],[3,4,3],[2,4,9]],float) \n",
    "b=array([[10],[18],[16]],float)\n",
    "n=len(b) #n=3 \n",
    "print(\"a is\")\n",
    "print(a)\n",
    "for i in range(0,n-1):#i=0,1\n",
    "    m1=a[i,i] \n",
    "    print(\"m1 is\",m1)\n",
    "    a[i,:]=a[i,:]/m1\n",
    "    b[i]=b[i]/m1\n",
    "    print(a,\",\")\n",
    "    for j in range(i+1,n):#j=2\n",
    "        m2=a[j,i]\n",
    "        print(\"m2 is\",m2)\n",
    "        a[j,:]=a[j,:]-m2*a[i,:]\n",
    "        b[j]=b[j]-m2*b[i]\n",
    "        print(a,\",\")\n",
    "print(\"Matrix after gaussian elimination is\")\n",
    "print(a)"
   ]
  },
  {
   "cell_type": "code",
   "execution_count": 39,
   "id": "1417782e",
   "metadata": {},
   "outputs": [
    {
     "data": {
      "text/plain": [
       "array([[ 5.],\n",
       "       [-6.],\n",
       "       [12.]])"
      ]
     },
     "execution_count": 39,
     "metadata": {},
     "output_type": "execute_result"
    }
   ],
   "source": [
    "b"
   ]
  },
  {
   "cell_type": "markdown",
   "id": "e6db7d52",
   "metadata": {},
   "source": [
    "## Back substitution "
   ]
  },
  {
   "cell_type": "markdown",
   "id": "bd4d0d8e",
   "metadata": {},
   "source": [
    "In back substitution method, we substitute values of variables from last row,that's why it is called back substitution.\n",
    "\n",
    "$\n",
    "\\begin{bmatrix}\n",
    "1 & 0.5 & 0.5 & \\big| & 5 \\\\\n",
    "0 & 1 & 3 & \\big| & 6 \\\\\n",
    "0 & 0 & -2 & \\big| & -10\n",
    "\\end{bmatrix}\n",
    "$\n",
    "\n",
    "\n",
    "This is the formula we are using here\n",
    "\n",
    "$x_{0}=(b_{0}-a_{01}x_{1}-a_{02}x_{2})/a_{00}$\n",
    "\n",
    "$x_{1}=(b_{1}-a_{12}x_{2})/a_{11}$\n",
    "\n",
    "$x_{2}=b_{2}/a_{22}$\n",
    "\n",
    " \n",
    "$$x_i = \\frac{{b_i - \\sum_{{j=i+1}}^n{{a_{{ij}}  x_j}}}}{{a_{{ii}}}}$$\n",
    "\n"
   ]
  },
  {
   "cell_type": "code",
   "execution_count": 40,
   "id": "37068ed7",
   "metadata": {},
   "outputs": [
    {
     "name": "stdout",
     "output_type": "stream",
     "text": [
      "[0. 0. 0.]\n",
      "[ 0.  0. 12.] ,\n",
      "[  0.   0. -12.] ,\n",
      "[  0.  -6. -12.] ,\n",
      "[  0.  66. -12.] ,\n",
      "[  5.  66. -12.] ,\n",
      "[-70.  66. -12.] ,\n",
      "Solution Vector x:\n",
      "[-70.  66. -12.]\n"
     ]
    }
   ],
   "source": [
    "n = len(b)  # n=3\n",
    "x = zeros(n) # it creates an array [[0,0,0]]\n",
    "print(x)\n",
    "for i in range(n-1,-1,-1): # i=2,1,0\n",
    "    x[i] = b[i]\n",
    "    print(x,\",\")\n",
    "    # summation process starts\n",
    "    for j in range(i+1, n):#j=1 won't run ,j=2,j=1,2 \n",
    "        x[i]=x[i]-a[i, j] * x[j]\n",
    "    x[i] =x[i]/a[i, i] \n",
    "    print(x,\",\")\n",
    "\n",
    "print(\"Solution Vector x:\")\n",
    "print(x)"
   ]
  },
  {
   "cell_type": "markdown",
   "id": "41d6e48e",
   "metadata": {},
   "source": [
    "\n"
   ]
  }
 ],
 "metadata": {
  "kernelspec": {
   "display_name": "Python 3 (ipykernel)",
   "language": "python",
   "name": "python3"
  },
  "language_info": {
   "codemirror_mode": {
    "name": "ipython",
    "version": 3
   },
   "file_extension": ".py",
   "mimetype": "text/x-python",
   "name": "python",
   "nbconvert_exporter": "python",
   "pygments_lexer": "ipython3",
   "version": "3.10.9"
  }
 },
 "nbformat": 4,
 "nbformat_minor": 5
}
