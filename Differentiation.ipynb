{
 "cells": [
  {
   "cell_type": "markdown",
   "id": "75c55858",
   "metadata": {},
   "source": [
    "# Differentiation \n",
    "In simple terms differentiation tells us how a function change with respect to another function \n",
    "\n",
    "To represent the derivative symbol, we use the following notation:\n",
    "\n",
    "- The derivative of a function ƒ(x) with respect to x is written as:\n",
    "  $$\\frac{d}{dx} f(x)$$ or $$f'(x)$$\n",
    "\n",
    "\n",
    "- The derivative of a function y with respect to x is written as:\n",
    "  $$\\frac{dy}{dx}$$\n"
   ]
  },
  {
   "cell_type": "markdown",
   "id": "97a456c2",
   "metadata": {},
   "source": [
    " Q1 Derivate $f(x)=x^2$ w.r.t x."
   ]
  },
  {
   "cell_type": "markdown",
   "id": "c18f1264",
   "metadata": {},
   "source": [
    "#### Solution"
   ]
  },
  {
   "cell_type": "code",
   "execution_count": 4,
   "id": "a78c5212",
   "metadata": {},
   "outputs": [],
   "source": [
    "from sympy import *\n",
    "x,y,t,a,w,t,i=symbols('x y t a w t i') # defining symbols x,y,t\n",
    "y=x**2"
   ]
  },
  {
   "cell_type": "code",
   "execution_count": 5,
   "id": "61d1d764",
   "metadata": {},
   "outputs": [
    {
     "data": {
      "text/latex": [
       "$\\displaystyle 2 x$"
      ],
      "text/plain": [
       "2*x"
      ]
     },
     "execution_count": 5,
     "metadata": {},
     "output_type": "execute_result"
    }
   ],
   "source": [
    "derivative=diff(y,x) # differentiating y  w.r.t  x\n",
    "derivative"
   ]
  },
  {
   "cell_type": "markdown",
   "id": "3551d31e",
   "metadata": {},
   "source": [
    "Q2. Derivate $\\frac{sin(x)}{tan(x)}$ w.r.t     x."
   ]
  },
  {
   "cell_type": "code",
   "execution_count": 7,
   "id": "44b5b7a3",
   "metadata": {},
   "outputs": [
    {
     "data": {
      "text/latex": [
       "$\\displaystyle \\frac{\\left(- \\tan^{2}{\\left(x \\right)} - 1\\right) \\sin{\\left(x \\right)}}{\\tan^{2}{\\left(x \\right)}} + \\frac{\\cos{\\left(x \\right)}}{\\tan{\\left(x \\right)}}$"
      ],
      "text/plain": [
       "(-tan(x)**2 - 1)*sin(x)/tan(x)**2 + cos(x)/tan(x)"
      ]
     },
     "execution_count": 7,
     "metadata": {},
     "output_type": "execute_result"
    }
   ],
   "source": [
    "y1=sin(x)/tan(x)\n",
    "derivative=diff(y1,x)\n",
    "derivative"
   ]
  },
  {
   "cell_type": "code",
   "execution_count": null,
   "id": "7c4162a2",
   "metadata": {},
   "outputs": [],
   "source": []
  },
  {
   "cell_type": "markdown",
   "id": "2e39d744",
   "metadata": {},
   "source": [
    "Q3.Find the value of $f'(\\pi)$ for $f(x)=sin(x)e^{cos(x)}$"
   ]
  },
  {
   "cell_type": "code",
   "execution_count": 9,
   "id": "1a85e6e8",
   "metadata": {},
   "outputs": [
    {
     "data": {
      "text/latex": [
       "$\\displaystyle - e^{\\cos{\\left(x \\right)}} \\sin^{2}{\\left(x \\right)} + e^{\\cos{\\left(x \\right)}} \\cos{\\left(x \\right)}$"
      ],
      "text/plain": [
       "-exp(cos(x))*sin(x)**2 + exp(cos(x))*cos(x)"
      ]
     },
     "execution_count": 9,
     "metadata": {},
     "output_type": "execute_result"
    }
   ],
   "source": [
    "y2=sin(x)*exp(cos(x))\n",
    "d1=diff(y2,x)\n",
    "d1"
   ]
  },
  {
   "cell_type": "code",
   "execution_count": 10,
   "id": "0b48d2d1",
   "metadata": {},
   "outputs": [
    {
     "data": {
      "text/latex": [
       "$\\displaystyle -0.367879441171442$"
      ],
      "text/plain": [
       "-0.367879441171442"
      ]
     },
     "execution_count": 10,
     "metadata": {},
     "output_type": "execute_result"
    }
   ],
   "source": [
    "d1.subs(x,pi).evalf()"
   ]
  }
 ],
 "metadata": {
  "kernelspec": {
   "display_name": "Python 3 (ipykernel)",
   "language": "python",
   "name": "python3"
  },
  "language_info": {
   "codemirror_mode": {
    "name": "ipython",
    "version": 3
   },
   "file_extension": ".py",
   "mimetype": "text/x-python",
   "name": "python",
   "nbconvert_exporter": "python",
   "pygments_lexer": "ipython3",
   "version": "3.12.7"
  }
 },
 "nbformat": 4,
 "nbformat_minor": 5
}
