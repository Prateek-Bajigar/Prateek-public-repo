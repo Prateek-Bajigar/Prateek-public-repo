{
 "cells": [
  {
   "cell_type": "markdown",
   "id": "69b664c4",
   "metadata": {},
   "source": [
    "### Ordinary  Differential equations\n",
    "- When the dependent variable(y) is a function of a single independent variable(x in this case), the differential equation is said to be an ordinary differential equation(ODE).\n",
    "- Example: $\\frac{d^2y}{dx^2}+a^2y=0$\n",
    "- A solution to a differential equation is a functionof the independent variable(y) that when replaced in the equation brings it to the form 0=0 \n",
    "or\n",
    "in other words a function of dependent variable which satisfies the equation is the solution to the differential equation."
   ]
  },
  {
   "cell_type": "code",
   "execution_count": 2,
   "id": "d5e634cf",
   "metadata": {},
   "outputs": [],
   "source": [
    "from sympy import *\n",
    "init_printing()\n",
    "x,y,t,T,t0,k,b,L,R,q,C,V,K,r = symbols('x y t T t0 k b L R q C V K r',real=True) # defining symbols\n",
    "y=Function('y')(x)\n",
    "T=Function('T')(t)\n",
    "q=Function('q')(t)\n",
    "P=Function('P')(t)\n"
   ]
  },
  {
   "cell_type": "markdown",
   "id": "2ce9a4ef",
   "metadata": {},
   "source": [
    "### Q.1 Solve $ \\frac{dy}{dx}+3x-y=0 $"
   ]
  },
  {
   "cell_type": "code",
   "execution_count": 4,
   "id": "5f2e3783",
   "metadata": {},
   "outputs": [
    {
     "data": {
      "image/png": "[encoded data removed]",
      "text/latex": [
       "$\\displaystyle 3 x - y{\\left(x \\right)} + \\frac{d}{d x} y{\\left(x \\right)} = 0$"
      ],
      "text/plain": [
       "             d           \n",
       "3⋅x - y(x) + ──(y(x)) = 0\n",
       "             dx          "
      ]
     },
     "metadata": {},
     "output_type": "display_data"
    },
    {
     "data": {
      "image/png": "[encoded data removed]",
      "text/latex": [
       "$\\displaystyle y{\\left(x \\right)} = C_{1} e^{x} + 3 x + 3$"
      ],
      "text/plain": [
       "           x          \n",
       "y(x) = C₁⋅ℯ  + 3⋅x + 3"
      ]
     },
     "metadata": {},
     "output_type": "display_data"
    }
   ],
   "source": [
    "d1=Eq(y.diff(x,1)+3*x-y,0) # Defining the differential equation\n",
    "sol=dsolve(d1,y) # Solving the differential equation\n",
    "display(d1,sol)"
   ]
  },
  {
   "cell_type": "markdown",
   "id": "d546309c",
   "metadata": {},
   "source": [
    "### Q2.Solve $\\frac{dy}{dx}=\\frac{x^2+y^2}{xy}$"
   ]
  },
  {
   "cell_type": "code",
   "execution_count": 6,
   "id": "5c4e284a",
   "metadata": {},
   "outputs": [
    {
     "data": {
      "image/png": "[encoded data removed]",
      "text/latex": [
       "$\\displaystyle \\frac{d}{d x} y{\\left(x \\right)} - \\frac{x^{2} + y^{2}{\\left(x \\right)}}{x y{\\left(x \\right)}} = 0$"
      ],
      "text/plain": [
       "            2    2       \n",
       "d          x  + y (x)    \n",
       "──(y(x)) - ────────── = 0\n",
       "dx           x⋅y(x)      "
      ]
     },
     "metadata": {},
     "output_type": "display_data"
    },
    {
     "data": {
      "image/png": "[encoded data removed]",
      "text/latex": [
       "$\\displaystyle \\left[ y{\\left(x \\right)} = - x \\sqrt{C_{1} + 2 \\log{\\left(x \\right)}}, \\  y{\\left(x \\right)} = x \\sqrt{C_{1} + 2 \\log{\\left(x \\right)}}\\right]$"
      ],
      "text/plain": [
       "⎡            _______________             _______________⎤\n",
       "⎣y(x) = -x⋅╲╱ C₁ + 2⋅log(x) , y(x) = x⋅╲╱ C₁ + 2⋅log(x) ⎦"
      ]
     },
     "metadata": {},
     "output_type": "display_data"
    }
   ],
   "source": [
    "d2=Eq(y.diff(x,1)-(x**2+y**2)/(x*y),0)\n",
    "sol=dsolve(d2,y)\n",
    "display(d2,sol)"
   ]
  },
  {
   "cell_type": "markdown",
   "id": "3073c4b4",
   "metadata": {},
   "source": [
    "### Q3.Solve $\\displaystyle k t - k t_{0} + \\frac{d}{d t} T{\\left(t \\right)} = 0$"
   ]
  },
  {
   "cell_type": "code",
   "execution_count": 8,
   "id": "a5dcbddc",
   "metadata": {},
   "outputs": [
    {
     "data": {
      "image/png": "[encoded data removed]",
      "text/latex": [
       "$\\displaystyle k t - k t_{0} + \\frac{d}{d t} T{\\left(t \\right)} = 0$"
      ],
      "text/plain": [
       "             d           \n",
       "k⋅t - k⋅t₀ + ──(T(t)) = 0\n",
       "             dt          "
      ]
     },
     "metadata": {},
     "output_type": "display_data"
    },
    {
     "data": {
      "image/png": "[encoded data removed]",
      "text/latex": [
       "$\\displaystyle T{\\left(t \\right)} = C_{1} - \\frac{k t^{2}}{2} + k t t_{0}$"
      ],
      "text/plain": [
       "               2         \n",
       "            k⋅t          \n",
       "T(t) = C₁ - ──── + k⋅t⋅t₀\n",
       "             2           "
      ]
     },
     "metadata": {},
     "output_type": "display_data"
    }
   ],
   "source": [
    "d3=Eq(T.diff(t,1)+k*t-k*t0,0)\n",
    "sol=dsolve(d3,T)\n",
    "display(d3,sol)"
   ]
  },
  {
   "cell_type": "markdown",
   "id": "95732ebd",
   "metadata": {},
   "source": [
    "### Q4. Solve $\\displaystyle \\frac{d^{2}}{d x^{2}} y{\\left(x \\right)}+b \\frac{d}{d x} y{\\left(x \\right)} - k y{\\left(x \\right)}   = 0$"
   ]
  },
  {
   "cell_type": "code",
   "execution_count": 10,
   "id": "603ff937",
   "metadata": {},
   "outputs": [
    {
     "data": {
      "image/png": "[encoded data removed]",
      "text/latex": [
       "$\\displaystyle b \\frac{d}{d x} y{\\left(x \\right)} - k y{\\left(x \\right)} + \\frac{d^{2}}{d x^{2}} y{\\left(x \\right)} = 0$"
      ],
      "text/plain": [
       "                       2           \n",
       "  d                   d            \n",
       "b⋅──(y(x)) - k⋅y(x) + ───(y(x)) = 0\n",
       "  dx                    2          \n",
       "                      dx           "
      ]
     },
     "metadata": {},
     "output_type": "display_data"
    },
    {
     "data": {
      "image/png": "[encoded data removed]",
      "text/latex": [
       "$\\displaystyle y{\\left(x \\right)} = C_{1} e^{\\frac{x \\left(- b + \\sqrt{b^{2} + 4 k}\\right)}{2}} + C_{2} e^{- \\frac{x \\left(b + \\sqrt{b^{2} + 4 k}\\right)}{2}}$"
      ],
      "text/plain": [
       "             ⎛        __________⎞          ⎛       __________⎞ \n",
       "             ⎜       ╱  2       ⎟          ⎜      ╱  2       ⎟ \n",
       "           x⋅⎝-b + ╲╱  b  + 4⋅k ⎠       -x⋅⎝b + ╲╱  b  + 4⋅k ⎠ \n",
       "           ──────────────────────       ───────────────────────\n",
       "                     2                             2           \n",
       "y(x) = C₁⋅ℯ                       + C₂⋅ℯ                       "
      ]
     },
     "metadata": {},
     "output_type": "display_data"
    }
   ],
   "source": [
    "d4=Eq(y.diff(x,2)+b*y.diff(x,1)-k*y,0)\n",
    "sol=dsolve(d4,y)\n",
    "display(d4,sol)"
   ]
  },
  {
   "cell_type": "markdown",
   "id": "4582ac81",
   "metadata": {},
   "source": [
    "### Q3.Solve $\\frac{d^2y}{dx^2}+y=0$ ,if $y(0)=0$ and $y(1)=1$."
   ]
  },
  {
   "cell_type": "code",
   "execution_count": 12,
   "id": "63635ada",
   "metadata": {},
   "outputs": [
    {
     "data": {
      "image/png": "[encoded data removed]",
      "text/latex": [
       "$\\displaystyle \\left( y{\\left(x \\right)} + \\frac{d^{2}}{d x^{2}} y{\\left(x \\right)} = 0, \\  y{\\left(x \\right)} = \\frac{\\sin{\\left(x \\right)}}{\\sin{\\left(1 \\right)}}\\right)$"
      ],
      "text/plain": [
       "⎛        2                          ⎞\n",
       "⎜       d                     sin(x)⎟\n",
       "⎜y(x) + ───(y(x)) = 0, y(x) = ──────⎟\n",
       "⎜         2                   sin(1)⎟\n",
       "⎝       dx                          ⎠"
      ]
     },
     "execution_count": 12,
     "metadata": {},
     "output_type": "execute_result"
    }
   ],
   "source": [
    "\n",
    "d5=Eq(y.diff(x,2)+y,0)\n",
    "sol = dsolve(d5,y,ics={y.subs(x,0):0, y.subs(x,1):1})\n",
    "d5,sol"
   ]
  },
  {
   "cell_type": "markdown",
   "id": "c364e53f",
   "metadata": {},
   "source": [
    "### Problem: RLC Circuit Response\n",
    "\n",
    "An RLC circuit consists of a resistor R, inductor L, and capacitor C connected in series. An external voltage source V(t) is connected. Determine the charge q(t) on the capacitor for the given parameters: L = 0.1 H, R = 50 Ω, C = 0.01 F, V(t) = 10 cos(100t).\n",
    "Find the charge $q(t)$ as a function of time t.\n",
    "\n",
    "The RLC circuit response can be modeled using the following second-order ordinary differential equation (ODE):\n",
    "\n",
    "$ L \\frac{d^2q}{dt^2} + R \\frac{dq}{dt} + \\frac{1}{C}q = V(t) $\n",
    "\n",
    "Where:\n",
    "-  q  is the charge on the capacitor.\n",
    "-  t  is time.\n",
    "-  L  is the inductance of the inductor.\n",
    "- R  is the resistance of the resistor.\n",
    "-  C  is the capacitance of the capacitor.\n",
    "-  V(t)  is the external voltage source.\n",
    "\n"
   ]
  },
  {
   "cell_type": "code",
   "execution_count": 14,
   "id": "298e19b5",
   "metadata": {},
   "outputs": [
    {
     "data": {
      "image/png": "[encoded data removed]",
      "text/latex": [
       "$\\displaystyle 100.0 q{\\left(t \\right)} - 10 \\cos{\\left(100 t \\right)} + 50 \\frac{d}{d t} q{\\left(t \\right)} + 0.1 \\frac{d^{2}}{d t^{2}} q{\\left(t \\right)} = 0$"
      ],
      "text/plain": [
       "                                                2           \n",
       "                                d              d            \n",
       "100.0⋅q(t) - 10⋅cos(100⋅t) + 50⋅──(q(t)) + 0.1⋅───(q(t)) = 0\n",
       "                                dt               2          \n",
       "                                               dt           "
      ]
     },
     "metadata": {},
     "output_type": "display_data"
    },
    {
     "data": {
      "image/png": "[encoded data removed]",
      "text/latex": [
       "$\\displaystyle q{\\left(t \\right)} = C_{1} e^{- 497.991935352745 t} + C_{2} e^{- 2.00806464725511 t} + 0.00193723363037582 \\sin{\\left(100.0 t \\right)} - 0.000348702053467648 \\cos{\\left(100.0 t \\right)}$"
      ],
      "text/plain": [
       "           -497.991935352745⋅t       -2.00806464725511⋅t                                                               ↪\n",
       "q(t) = C₁⋅ℯ                    + C₂⋅ℯ                    + 0.00193723363037582⋅sin(100.0⋅t) - 0.000348702053467648⋅cos ↪\n",
       "\n",
       "↪          \n",
       "↪ (100.0⋅t)"
      ]
     },
     "metadata": {},
     "output_type": "display_data"
    }
   ],
   "source": [
    "L=0.1\n",
    "R=50\n",
    "C=0.01\n",
    "V=10*cos(100*t)\n",
    "d5=Eq(L*q.diff(t,2)+R*q.diff(t,1)+q/C-V,0)\n",
    "sol=dsolve(d5,q)\n",
    "display(d5,sol)"
   ]
  },
  {
   "cell_type": "markdown",
   "id": "f27448d7",
   "metadata": {},
   "source": [
    "## Problem: Population Growth Modeling\n",
    "\n",
    "Consider a population of organisms whose growth can be modeled by the logistic growth equation:\n",
    "$ \n",
    "\\frac{dP}{dt} = r  P  \\left(1 - \\frac{P}{K}\\right)\n",
    " $\n",
    "\n",
    "Where:\n",
    "-  P  represents the population size at time t .\n",
    "-  r  is the intrinsic growth rate of the population.\n",
    "-  K  is the carrying capacity of the environment, i.e., the maximum population size that the environment can support.\n",
    "\n",
    "Given the following parameters: r = 0.2 , K = 1000, and an initial population P(0) = 100, calculate and plot the population growth over a time span of 0 to 50 units.\n",
    "\n",
    "1. Solve the differential equation using SymPy in Python.\n",
    "2. Plot the population  P(t)  as a function of time  t  using matplotlib.\n",
    "\n",
    "\n"
   ]
  },
  {
   "cell_type": "code",
   "execution_count": 16,
   "id": "09b52a64",
   "metadata": {},
   "outputs": [
    {
     "name": "stdout",
     "output_type": "stream",
     "text": [
      "Eq(y(x), ((5 - exp(5)*cos(5*sqrt(3)))*exp(-5)*sin(sqrt(3)*x/2)/sin(5*sqrt(3)) + cos(sqrt(3)*x/2))*exp(x/2))\n"
     ]
    }
   ],
   "source": [
    "d5=Eq(y.diff(x,2)-y.diff(x,1)+y,0)\n",
    "sol = dsolve(d5,y,ics={y.subs(x,0):1, y.subs(x,10):5})\n",
    "print(sol)"
   ]
  },
  {
   "cell_type": "code",
   "execution_count": 17,
   "id": "80eb1e8f",
   "metadata": {},
   "outputs": [
    {
     "data": {
      "image/png": "[encoded data removed]",
      "text/latex": [
       "$\\displaystyle y{\\left(x \\right)} + 6 \\frac{d}{d x} y{\\left(x \\right)} + 2 \\frac{d^{2}}{d x^{2}} y{\\left(x \\right)} = 0$"
      ],
      "text/plain": [
       "                       2           \n",
       "         d            d            \n",
       "y(x) + 6⋅──(y(x)) + 2⋅───(y(x)) = 0\n",
       "         dx             2          \n",
       "                      dx           "
      ]
     },
     "metadata": {},
     "output_type": "display_data"
    },
    {
     "data": {
      "image/png": "[encoded data removed]",
      "text/latex": [
       "$\\displaystyle y{\\left(x \\right)} = \\frac{10 \\left(1 - e^{\\sqrt{7} x}\\right) e^{- \\frac{3 x}{2} - \\frac{\\sqrt{7} x}{2} + 5 \\sqrt{7} + 15}}{1 - e^{10 \\sqrt{7}}}$"
      ],
      "text/plain": [
       "                         3⋅x   √7⋅x            \n",
       "                       - ─── - ──── + 5⋅√7 + 15\n",
       "          ⎛     √7⋅x⎞     2     2              \n",
       "       10⋅⎝1 - ℯ    ⎠⋅ℯ                        \n",
       "y(x) = ────────────────────────────────────────\n",
       "                           10⋅√7               \n",
       "                      1 - ℯ                    "
      ]
     },
     "metadata": {},
     "output_type": "display_data"
    }
   ],
   "source": [
    "d4=Eq(2*y.diff(x,2)+6*y.diff(x,1)+y,0)\n",
    "sol=dsolve(d4,y,ics={y.subs(x,0):0, y.subs(x,10):10})\n",
    "q1=sol\n",
    "display(d4,sol.simplify())"
   ]
  },
  {
   "cell_type": "code",
   "execution_count": 18,
   "id": "954014cc",
   "metadata": {},
   "outputs": [
    {
     "data": {
      "image/png": "[encoded data removed]",
      "text/latex": [
       "$\\displaystyle y{\\left(10 \\right)} = 10.0$"
      ],
      "text/plain": [
       "y(10) = 10.0"
      ]
     },
     "execution_count": 18,
     "metadata": {},
     "output_type": "execute_result"
    }
   ],
   "source": [
    "q1.subs(x,10).evalf()"
   ]
  },
  {
   "cell_type": "code",
   "execution_count": 35,
   "id": "c30de85c",
   "metadata": {},
   "outputs": [
    {
     "data": {
      "image/png": "[encoded data removed]",
      "text/plain": [
       "<Figure size 640x480 with 1 Axes>"
      ]
     },
     "metadata": {},
     "output_type": "display_data"
    }
   ],
   "source": [
    "t=10*exp(15)*exp(5*sqrt(7))*exp(x*(-3 + sqrt(7))/2)/(-1 + exp(10*sqrt(7))) - 10*exp(15)*exp(5*sqrt(7))*exp(-x*(sqrt(7) + 3)/2)/(-1 + exp(10*sqrt(7)))\n",
    "import numpy as np\n",
    "import matplotlib.pyplot as plt\n",
    "a=np.linspace(0,10,100)\n",
    "def c(s) :\n",
    "    return t.subs(x,s).evalf()\n",
    "s=[c(i) for i in a ]\n",
    "plt.plot(a,s,'g')\n",
    "plt.grid(True)"
   ]
  },
  {
   "cell_type": "code",
   "execution_count": null,
   "id": "32a0edfe",
   "metadata": {},
   "outputs": [],
   "source": []
  }
 ],
 "metadata": {
  "kernelspec": {
   "display_name": "Python 3 (ipykernel)",
   "language": "python",
   "name": "python3"
  },
  "language_info": {
   "codemirror_mode": {
    "name": "ipython",
    "version": 3
   },
   "file_extension": ".py",
   "mimetype": "text/x-python",
   "name": "python",
   "nbconvert_exporter": "python",
   "pygments_lexer": "ipython3",
   "version": "3.12.7"
  }
 },
 "nbformat": 4,
 "nbformat_minor": 5
}
